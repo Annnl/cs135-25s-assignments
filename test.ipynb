{
 "cells": [
  {
   "cell_type": "code",
   "execution_count": 1,
   "metadata": {},
   "outputs": [
    {
     "ename": "AttributeError",
     "evalue": "'numpy.ndarray' object has no attribute 'append'",
     "output_type": "error",
     "traceback": [
      "\u001b[1;31m---------------------------------------------------------------------------\u001b[0m",
      "\u001b[1;31mAttributeError\u001b[0m                            Traceback (most recent call last)",
      "Cell \u001b[1;32mIn[1], line 12\u001b[0m\n\u001b[0;32m      9\u001b[0m \u001b[38;5;28;01massert\u001b[39;00m \u001b[38;5;129;01mnot\u001b[39;00m \u001b[38;5;28mhasattr\u001b[39m(clf, \u001b[38;5;124m'\u001b[39m\u001b[38;5;124mwtil_G\u001b[39m\u001b[38;5;124m'\u001b[39m)\n\u001b[0;32m     11\u001b[0m \u001b[38;5;66;03m### After training, should have some weights\u001b[39;00m\n\u001b[1;32m---> 12\u001b[0m clf\u001b[38;5;241m.\u001b[39mfit(x_N1, y_N)\n",
      "File \u001b[1;32mc:\\Users\\ningn\\code\\cs135-25s-assignments\\hw3\\LRGradientDescent.py:252\u001b[0m, in \u001b[0;36mLogisticRegressionGradientDescent.fit\u001b[1;34m(self, x_NF, y_N)\u001b[0m\n\u001b[0;32m    249\u001b[0m     wtil_G \u001b[38;5;241m=\u001b[39m wtil_G \u001b[38;5;241m-\u001b[39m \u001b[38;5;28mself\u001b[39m\u001b[38;5;241m.\u001b[39mstep_size\u001b[38;5;241m*\u001b[39m \u001b[38;5;28mself\u001b[39m\u001b[38;5;241m.\u001b[39mcalc_grad(wtil_G, xone_NG, y_N) \u001b[38;5;66;03m# <- TODO replace this line\u001b[39;00m\n\u001b[0;32m    251\u001b[0m loss \u001b[38;5;241m=\u001b[39m \u001b[38;5;28mself\u001b[39m\u001b[38;5;241m.\u001b[39mcalc_loss(wtil_G, xone_NG, y_N)  \u001b[38;5;66;03m# TODO call calc_loss\u001b[39;00m\n\u001b[1;32m--> 252\u001b[0m grad_G \u001b[38;5;241m=\u001b[39m \u001b[38;5;28mself\u001b[39m\u001b[38;5;241m.\u001b[39mcalc_grad(wtil_G, xone_NG, y_N) \u001b[38;5;66;03m# TODO call calc_grad\u001b[39;00m\n\u001b[0;32m    253\u001b[0m avg_L1_norm_of_grad \u001b[38;5;241m=\u001b[39m np\u001b[38;5;241m.\u001b[39mmean(np\u001b[38;5;241m.\u001b[39mabs(grad_G))\n\u001b[0;32m    255\u001b[0m \u001b[38;5;66;03m# Print information to stdout\u001b[39;00m\n",
      "File \u001b[1;32mc:\\Users\\ningn\\code\\cs135-25s-assignments\\hw3\\LRGradientDescent.py:368\u001b[0m, in \u001b[0;36mLogisticRegressionGradientDescent.calc_grad\u001b[1;34m(self, wtil_G, xone_NG, y_N)\u001b[0m\n\u001b[0;32m    366\u001b[0m G \u001b[38;5;241m=\u001b[39m wtil_G\u001b[38;5;241m.\u001b[39msize\n\u001b[0;32m    367\u001b[0m C \u001b[38;5;241m=\u001b[39m \u001b[38;5;28mfloat\u001b[39m(\u001b[38;5;28mself\u001b[39m\u001b[38;5;241m.\u001b[39mC)\n\u001b[1;32m--> 368\u001b[0m grad_L2_wrt_wtil_G \u001b[38;5;241m=\u001b[39m wtil_G[:\u001b[38;5;241m-\u001b[39m\u001b[38;5;241m1\u001b[39m]\u001b[38;5;241m.\u001b[39mappend(\u001b[38;5;241m0\u001b[39m) \u001b[38;5;66;03m# TODO fixme.\u001b[39;00m\n\u001b[0;32m    369\u001b[0m x_prob \u001b[38;5;241m=\u001b[39m \u001b[38;5;28mself\u001b[39m\u001b[38;5;241m.\u001b[39mpredict_proba(xone_NG)[:,:\u001b[38;5;241m-\u001b[39m\u001b[38;5;241m1\u001b[39m]\n\u001b[0;32m    370\u001b[0m grad_sumBCE_wrt_wtil_G \u001b[38;5;241m=\u001b[39m (x_prob \u001b[38;5;241m-\u001b[39m y_N) \u001b[38;5;241m@\u001b[39m xone_NG \u001b[38;5;66;03m# TODO fixme.\u001b[39;00m\n",
      "\u001b[1;31mAttributeError\u001b[0m: 'numpy.ndarray' object has no attribute 'append'"
     ]
    }
   ],
   "source": [
    "\n",
    "import numpy as np\n",
    "from hw3.LRGradientDescent import LogisticRegressionGradientDescent\n",
    "x_N1 = np.hstack([np.linspace(-2, -1, 3),np.linspace(+1, +2, 3)])[:,np.newaxis]\n",
    "y_N = np.hstack([np.zeros(3), np.ones(3)])\n",
    "\n",
    "clf = LogisticRegressionGradientDescent(C=10.0, step_size=1.0, verbose=False)\n",
    "\n",
    "    ### Shouldn't have any weights if we haven't trained yet\n",
    "assert not hasattr(clf, 'wtil_G')\n",
    "\n",
    "### After training, should have some weights\n",
    "clf.fit(x_N1, y_N)"
   ]
  }
 ],
 "metadata": {
  "kernelspec": {
   "display_name": "cs135_25s_env",
   "language": "python",
   "name": "python3"
  },
  "language_info": {
   "codemirror_mode": {
    "name": "ipython",
    "version": 3
   },
   "file_extension": ".py",
   "mimetype": "text/x-python",
   "name": "python",
   "nbconvert_exporter": "python",
   "pygments_lexer": "ipython3",
   "version": "3.11.11"
  }
 },
 "nbformat": 4,
 "nbformat_minor": 2
}
