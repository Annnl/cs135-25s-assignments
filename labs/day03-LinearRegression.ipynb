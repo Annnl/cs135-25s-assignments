{
 "cells": [
  {
   "cell_type": "markdown",
   "metadata": {},
   "source": [
    "# CS 135 day03: Linear Regression \n",
    "\n",
    "An investigation into the Formulas used for model training aka fitting"
   ]
  },
  {
   "cell_type": "markdown",
   "metadata": {},
   "source": [
    "# Objectives\n",
    "\n",
    "* Learn how to apply the standard \"least squares\" formulas for 'training' linear regression in 1 dimension\n",
    "* Learn how to apply the standard \"least squares\" formulas for 'training' linear regression in many dimensions (with matrix math)\n",
    "* Learn how these formulas minimize *mean squared error*, but maybe not other error metrics"
   ]
  },
  {
   "cell_type": "markdown",
   "metadata": {},
   "source": [
    "\n",
    "# Outline\n",
    "\n",
    "* [Part 1: Linear Regression](#part1) with 1-dim features, estimate slope only\n",
    "* * Exercise 1a: Implement `predict`\n",
    "* * Exercise 1b: When does the formula fail?\n",
    "* * Exercise 1c: Show graphically which weight minimizes mean squared error?\n",
    "* * Exercise 1d: Show graphically which weight minimizes mean absolute error?\n",
    "* [Part 2: Linear Regression](#part2) with 1-dim features, slope and intercept\n",
    "* [Part 3: General case of linear regression with F features](#part3)\n",
    "* [Part 4: What is a matrix inverse?](#part4)\n",
    "* [Part 5: When can we trust numerical computation of the inverse?](#part5)\n",
    "* [Part 6: General case of linear regression with F features, using numerically stable formulas](#part6)\n",
    "\n"
   ]
  },
  {
   "cell_type": "markdown",
   "metadata": {},
   "source": [
    "# Takeaways\n",
    "\n",
    "* Exact formulas exist for estimating the weight coefficients $w$ and bias/intercept $b$ for linear regression\n",
    "* * When $F=1$, just involves ratios of inner products\n",
    "* * When $F>1$, requires matrix multiplication and other operations, solving a linear system with $F+1$ unknowns ($F$ weights and 1 bias)\n",
    "* Prefer `np.linalg.solve` over `np.linalg.inv`.\n",
    "* * Numerical methods for computing inverses (like `np.linalg.inv`) are unreliable if the matrix $A$ is almost singular.\n",
    "* Linear algebra is a very important field of mathematics for understanding when a solution to a linear system of equations exists\n",
    "* These formulas minimize *mean squared error*, but likely may not minimize other error metrics\n",
    "* * Many ML methods are motivated by what is *mathematically convenient*.\n",
    "* * In practice, you should *definitely* consider if another objective is better for your regression task"
   ]
  },
  {
   "cell_type": "markdown",
   "metadata": {},
   "source": [
    "# Import libraries"
   ]
  },
  {
   "cell_type": "code",
   "execution_count": null,
   "metadata": {},
   "outputs": [],
   "source": [
    "import numpy as np\n",
    "import pandas as pd"
   ]
  },
  {
   "cell_type": "code",
   "execution_count": null,
   "metadata": {},
   "outputs": [],
   "source": [
    "import sklearn.metrics"
   ]
  },
  {
   "cell_type": "code",
   "execution_count": null,
   "metadata": {},
   "outputs": [],
   "source": [
    "# import plotting libraries\n",
    "import matplotlib\n",
    "import matplotlib.pyplot as plt\n",
    "\n",
    "import seaborn as sns\n",
    "sns.set('notebook', style='whitegrid', font_scale=0.8)\n",
    "plt.rcParams[\"figure.figsize\"] = (4, 3)"
   ]
  },
  {
   "cell_type": "markdown",
   "metadata": {},
   "source": []
  },
  {
   "cell_type": "markdown",
   "metadata": {},
   "source": [
    "### Generate a simple 1D regression dataset\n",
    "\n",
    "* Use true slope of 2.345\n",
    "* Use true intercept of 0.0\n",
    "* Add a small amount of noise to each y value, so that the problem isn't \"too easy\""
   ]
  },
  {
   "cell_type": "code",
   "execution_count": null,
   "metadata": {},
   "outputs": [],
   "source": [
    "true_slope = 2.345\n",
    "\n",
    "N = 7\n",
    "x_N = np.linspace(-1, 1, N);\n",
    "ypure_N = true_slope * x_N\n",
    "\n",
    "prng = np.random.RandomState(987)\n",
    "y_N = ypure_N + 0.7 * prng.randn(N) # add Gaussian noise with stddev 0.7"
   ]
  },
  {
   "cell_type": "code",
   "execution_count": null,
   "metadata": {},
   "outputs": [
    {
     "data": {
      "image/png": "[encoded data removed]",
      "text/plain": [
       "<Figure size 400x300 with 1 Axes>"
      ]
     },
     "metadata": {},
     "output_type": "display_data"
    }
   ],
   "source": [
    "plt.plot(x_N, ypure_N, 'bs-', label='y pure')\n",
    "plt.plot(x_N, y_N, 'rs-', label='y (noise added)');\n",
    "plt.legend(loc='lower right');\n",
    "plt.xlabel('x'); plt.ylabel('y');"
   ]
  },
  {
   "cell_type": "markdown",
   "metadata": {},
   "source": [
    "<a id=\"part1\"></a>"
   ]
  },
  {
   "cell_type": "markdown",
   "metadata": {},
   "source": [
    "# Part 1: Linear Regression with F=1, slope only\n",
    "\n",
    "Estimate slope only. We assume the bias/intercept is fixed to zero."
   ]
  },
  {
   "cell_type": "markdown",
   "metadata": {},
   "source": [
    "## Prediction Step\n",
    "\n",
    "Recall that we make predictions with this model via\n",
    "\n",
    "$$\n",
    "\\hat{y}(x) = w \\cdot x\n",
    "$$\n",
    "\n",
    "\n",
    "### CODE Exercise 1a: Implement predict for this LR\n",
    "\n",
    "Try to complete the `predict` method below"
   ]
  },
  {
   "cell_type": "code",
   "execution_count": null,
   "metadata": {},
   "outputs": [],
   "source": [
    "def predict1(x_N, w):\n",
    "    ''' Prediction step of F=1 linear regression\n",
    "    \n",
    "    Returns\n",
    "    -------\n",
    "    yhat_N : 1D array, shape (N,)\n",
    "        Predicted y value for each entry in x_N\n",
    "    '''\n",
    "    N = np.asarray(x_N).shape\n",
    "    yhat_N = np.zeros(N)        # TODO fix me\n",
    "    return yhat_N"
   ]
  },
  {
   "cell_type": "markdown",
   "metadata": {},
   "source": [
    "### SOLUTION For Exercise 1a\n",
    "\n",
    "```python\n",
    "def predict1(x_N, w):\n",
    "    ''' Prediction step of F=1 linear regression\n",
    "    \n",
    "    Returns\n",
    "    -------\n",
    "    yhat_N : 1D array, shape (N,)\n",
    "        Predicted y value for each entry in x_N\n",
    "    '''\n",
    "    N = np.asarray(x_N).shape\n",
    "    yhat_N = w * x_N # Elementwise multiply each entry in x_N by slope w\n",
    "    return yhat_N\n",
    "```"
   ]
  },
  {
   "cell_type": "code",
   "execution_count": null,
   "metadata": {},
   "outputs": [
    {
     "name": "stdout",
     "output_type": "stream",
     "text": [
      "Your answer:\n"
     ]
    },
    {
     "data": {
      "text/plain": [
       "array([0., 0., 0., 0., 0., 0., 0.])"
      ]
     },
     "execution_count": null,
     "metadata": {},
     "output_type": "execute_result"
    }
   ],
   "source": [
    "# Check: does your prediction match the true, noise free y?\n",
    "\n",
    "print(\"Your answer:\")\n",
    "predict1(x_N, true_slope)"
   ]
  },
  {
   "cell_type": "code",
   "execution_count": null,
   "metadata": {},
   "outputs": [
    {
     "name": "stdout",
     "output_type": "stream",
     "text": [
      "Expected answer:\n"
     ]
    },
    {
     "data": {
      "text/plain": [
       "array([-2.345     , -1.56333333, -0.78166667,  0.        ,  0.78166667,\n",
       "        1.56333333,  2.345     ])"
      ]
     },
     "execution_count": null,
     "metadata": {},
     "output_type": "execute_result"
    }
   ],
   "source": [
    "print(\"Expected answer:\")\n",
    ">>> ypure_N"
   ]
  },
  {
   "cell_type": "markdown",
   "metadata": {},
   "source": [
    "## Training step"
   ]
  },
  {
   "cell_type": "markdown",
   "metadata": {},
   "source": [
    "### Exact formula to estimate \"least squares\" solution w in 1D:\n",
    "\n",
    "$$\n",
    "w^* = \\frac{\\sum_n x_n y_n}{\\sum_n x_n^2} = \\frac{ \\mathbf{x}^T \\mathbf{y} }{ \\mathbf{x}^T \\mathbf{x} }\n",
    "$$"
   ]
  },
  {
   "cell_type": "code",
   "execution_count": null,
   "metadata": {},
   "outputs": [
    {
     "name": "stdout",
     "output_type": "stream",
     "text": [
      "2.345\n"
     ]
    }
   ],
   "source": [
    "# Remember the true slope\n",
    "print(true_slope)"
   ]
  },
  {
   "cell_type": "markdown",
   "metadata": {},
   "source": [
    "### Estimate w using the formula, with 'true', noise-free y"
   ]
  },
  {
   "cell_type": "code",
   "execution_count": null,
   "metadata": {},
   "outputs": [
    {
     "name": "stdout",
     "output_type": "stream",
     "text": [
      "2.3449999999999998\n"
     ]
    }
   ],
   "source": [
    "w_est = np.inner(x_N, ypure_N) / np.inner(x_N, x_N)\n",
    "print(w_est)"
   ]
  },
  {
   "cell_type": "markdown",
   "metadata": {},
   "source": [
    "### Estimate w using the formula, with noisy y\n",
    "\n",
    "If noise is added, we won't recover exactly the true slope, but it should be close (if noise is not large)"
   ]
  },
  {
   "cell_type": "code",
   "execution_count": null,
   "metadata": {},
   "outputs": [
    {
     "name": "stdout",
     "output_type": "stream",
     "text": [
      "2.8916527199994326\n"
     ]
    }
   ],
   "source": [
    "w_est = np.inner(x_N, y_N) / np.inner(x_N, x_N)\n",
    "print(w_est)"
   ]
  },
  {
   "cell_type": "code",
   "execution_count": null,
   "metadata": {},
   "outputs": [],
   "source": []
  },
  {
   "cell_type": "markdown",
   "metadata": {},
   "source": [
    "### CONCEPT Exercise 1b: What if all examples had $x_n = 0$?\n",
    "\n",
    "What conceptually is the \"best\" value of $w$ for this case?\n",
    "\n",
    "If we use the given formula above, what does the algebra say we should set $w$ to?"
   ]
  },
  {
   "cell_type": "code",
   "execution_count": null,
   "metadata": {},
   "outputs": [],
   "source": [
    "# TODO write your answer here, discuss with colleague"
   ]
  },
  {
   "cell_type": "markdown",
   "metadata": {},
   "source": [
    "### CODE Exercise 1b: Show graphically which w value minimizes *mean squared error*\n",
    "\n",
    "Let's compare our formula to a \"brute force\" approach to finding the optimal w value.\n",
    "\n",
    "We'll enumerate lots of different w values, in the cell below.\n",
    "\n",
    "Then, you'll write code that computes the MSE of each one, and plots it as MSE vs $w$"
   ]
  },
  {
   "cell_type": "code",
   "execution_count": null,
   "metadata": {},
   "outputs": [
    {
     "name": "stdout",
     "output_type": "stream",
     "text": [
      "[-3.         -2.68965517 -2.37931034 -2.06896552 -1.75862069 -1.44827586\n",
      " -1.13793103 -0.82758621 -0.51724138 -0.20689655  0.10344828  0.4137931\n",
      "  0.72413793  1.03448276  1.34482759  1.65517241  1.96551724  2.27586207\n",
      "  2.5862069   2.89655172  3.20689655  3.51724138  3.82758621  4.13793103\n",
      "  4.44827586  4.75862069  5.06896552  5.37931034  5.68965517  6.        ]\n"
     ]
    }
   ],
   "source": [
    "# Create an array of candidate slope values\n",
    "G = 30\n",
    "w_candidates_G = np.linspace(-3, 6, G)\n",
    "\n",
    "print(w_candidates_G)"
   ]
  },
  {
   "cell_type": "code",
   "execution_count": null,
   "metadata": {},
   "outputs": [
    {
     "data": {
      "image/png": "[encoded data removed]",
      "text/plain": [
       "<Figure size 400x300 with 1 Axes>"
      ]
     },
     "metadata": {},
     "output_type": "display_data"
    }
   ],
   "source": [
    "error_G = np.zeros(G)\n",
    "for gg, w in enumerate(w_candidates_G):\n",
    "    yhat_N = 0.0       # TODO compute yhat value at current slope value\n",
    "    error_G[gg] = 2.0  # TODO call sklearn.metrics.mean_squared_error\n",
    "    \n",
    "plt.plot(w_candidates_G, error_G, 'r.-', label='$MSE(w)$ on train set');\n",
    "plt.plot(w_est * np.ones(2), np.asarray([0, 3]), 'b--', label='$w^*$ : optimal slope via MSE formula');\n",
    "plt.xlabel('w');\n",
    "plt.ylabel('mean squared error');\n",
    "plt.legend(loc='upper left');"
   ]
  },
  {
   "cell_type": "markdown",
   "metadata": {},
   "source": [
    "### CODE Exercise 1d: What about *mean absolute error*?\n",
    "\n",
    "Does the least-squares estimate of $w$ minimize mean absolute error for this example?"
   ]
  },
  {
   "cell_type": "code",
   "execution_count": null,
   "metadata": {},
   "outputs": [
    {
     "data": {
      "image/png": "[encoded data removed]",
      "text/plain": [
       "<Figure size 400x300 with 1 Axes>"
      ]
     },
     "metadata": {},
     "output_type": "display_data"
    }
   ],
   "source": [
    "error_G = np.zeros(G)\n",
    "for gg, w in enumerate(w_candidates_G):\n",
    "    yhat_N = 0.0       # TODO compute yhat value at current slope value\n",
    "    error_G[gg] = 2.0  # TODO call sklearn.metrics.mean_absolute_error, compare yhat_N to ytrue_N\n",
    "    \n",
    "plt.plot(w_candidates_G, error_G, 'r.-', label='$MAE(w)$ on train set');\n",
    "plt.plot(w_est * np.ones(2), np.asarray([0, 3]), 'b--', label='$w^*$ : optimal slope via MSE formula');\n",
    "plt.xlabel('w');\n",
    "plt.ylabel('mean absolute error');\n",
    "plt.legend(loc='upper left');"
   ]
  },
  {
   "cell_type": "markdown",
   "metadata": {},
   "source": [
    "### SOLUTION to Exercises 1c and 1d"
   ]
  },
  {
   "cell_type": "code",
   "execution_count": null,
   "metadata": {},
   "outputs": [
    {
     "data": {
      "image/png": "[encoded data removed]",
      "text/plain": [
       "<Figure size 800x300 with 2 Axes>"
      ]
     },
     "metadata": {},
     "output_type": "display_data"
    }
   ],
   "source": [
    "mae_G = np.zeros(G)\n",
    "mse_G = np.zeros(G)\n",
    "for gg, w in enumerate(w_candidates_G):\n",
    "    yhat_N = w * x_N\n",
    "    mse_G[gg] = sklearn.metrics.mean_squared_error(yhat_N, y_N)\n",
    "    mae_G[gg] = sklearn.metrics.mean_absolute_error(yhat_N, y_N)\n",
    "\n",
    "_, axgrid = plt.subplots(nrows=1, ncols=2, figsize=(8,3))\n",
    "mse_ax = axgrid[0]\n",
    "mae_ax = axgrid[1]\n",
    "\n",
    "mse_ax.plot(w_candidates_G, mse_G, 'r.-', label='$MSE(w)$ on train set');\n",
    "mae_ax.plot(w_candidates_G, mae_G, 'r.-', label='$MAE(w)$ on train set');\n",
    "\n",
    "for ax, ylab in [(mse_ax, 'mean squared error'), (mae_ax, 'mean absolute error')]:\n",
    "    ax.plot(w_est * np.ones(2), np.asarray([0, 3]), 'b--', label='$w^*$ : optimal slope via MSE formula');\n",
    "    ax.set_xlabel('w');\n",
    "    ax.set_ylabel(ylab);\n",
    "    ax.legend(loc='upper right');\n",
    "    ax.set_ylim(0, 5);\n",
    "plt.tight_layout();"
   ]
  },
  {
   "cell_type": "markdown",
   "metadata": {},
   "source": [
    "<a id=\"part2\"></a>"
   ]
  },
  {
   "cell_type": "markdown",
   "metadata": {},
   "source": [
    "# Part 2: Linear Regression with F=1, slope and intercept\n"
   ]
  },
  {
   "cell_type": "markdown",
   "metadata": {},
   "source": [
    "## Prediction step\n",
    "\n",
    "Here, the prediction step for any specific scalar input $x$ is\n",
    "\n",
    "$$\n",
    "\\hat{y}(x) = w \\cdot x + b\n",
    "$$\n",
    "\n",
    "\n",
    "### CODE Exercise 2a: Implement predict for this LR\n",
    "\n",
    "Try to complete the `predict` method below"
   ]
  },
  {
   "cell_type": "code",
   "execution_count": null,
   "metadata": {},
   "outputs": [],
   "source": [
    "def predict2(x_N, w, b):\n",
    "    ''' Prediction step of F=1 linear regression with bias\n",
    "    \n",
    "    Returns\n",
    "    -------\n",
    "    yhat_N : 1D array, shape (N,)\n",
    "        Predicted y value for each entry in x_N\n",
    "    '''\n",
    "    N = np.asarray(x_N).shape\n",
    "    yhat_N = np.zeros(N)        # TODO fix me\n",
    "    return yhat_N"
   ]
  },
  {
   "cell_type": "markdown",
   "metadata": {},
   "source": [
    "### SOLUTION For Exercise 2a\n",
    "\n",
    "```python\n",
    "def predict2(x_N, w):\n",
    "    ''' Prediction step of F=1 linear regression with bias\n",
    "    \n",
    "    Returns\n",
    "    -------\n",
    "    yhat_N : 1D array, shape (N,)\n",
    "        Predicted y value for each entry in x_N\n",
    "    '''\n",
    "    N = np.asarray(x_N).shape\n",
    "    yhat_N = w * x_N + b # Elementwise multiply, then add\n",
    "    return yhat_N\n",
    "```"
   ]
  },
  {
   "cell_type": "markdown",
   "metadata": {},
   "source": [
    "## Training Step for Model 2"
   ]
  },
  {
   "cell_type": "markdown",
   "metadata": {},
   "source": [
    "To minimize MSE on training set, first compute the mean $x$ and the mean $y$:\n",
    "\n",
    "$$\n",
    "\\bar{y} = \\text{mean}( y_1, \\ldots y_N)\n",
    "$$\n",
    "\n",
    "$$\n",
    "\\bar{x} = \\text{mean}( x_1, \\ldots x_N)\n",
    "$$\n",
    "\n",
    "\n",
    "Then, via formulas found in textbook, the best estimates of the slope and intercept (that minimize MSE) are given by:\n",
    "\n",
    "$$\n",
    "w^* = \\frac{ \\sum_{n=1}^N (x_n - \\bar{x}) (y_n - \\bar{y}) }{\\sum_{n=1}^N (x_n - \\bar{x})^2 }\n",
    "$$\n",
    "\n",
    "$$\n",
    "b^* = \\bar{y} - w^* \\bar{x} \\quad \\quad \\quad \\quad\n",
    "$$"
   ]
  },
  {
   "cell_type": "markdown",
   "metadata": {},
   "source": [
    "### Using the 'true', noise-free y value\n",
    "\n",
    "Sanity check : we should recover the true-slope, with zero intercept"
   ]
  },
  {
   "cell_type": "code",
   "execution_count": null,
   "metadata": {},
   "outputs": [
    {
     "name": "stdout",
     "output_type": "stream",
     "text": [
      "2.3449999999999998\n",
      "-1.7938032012157886e-16\n"
     ]
    }
   ],
   "source": [
    "xbar = np.mean(x_N)\n",
    "ybar = np.mean(ypure_N)\n",
    "w_est = np.inner(x_N - xbar, ypure_N - ybar) / np.inner(x_N - xbar, x_N - xbar)\n",
    "print(w_est)\n",
    "\n",
    "b_est = ybar - w_est * xbar\n",
    "print(b_est)"
   ]
  },
  {
   "cell_type": "markdown",
   "metadata": {},
   "source": [
    "### Using the noisy y value"
   ]
  },
  {
   "cell_type": "code",
   "execution_count": null,
   "metadata": {},
   "outputs": [
    {
     "name": "stdout",
     "output_type": "stream",
     "text": [
      "Estimated slope: 2.8916527199994326\n",
      "Estimated bias: -0.17718525644944352\n"
     ]
    }
   ],
   "source": [
    "xbar = np.mean(x_N)\n",
    "ybar = np.mean(y_N)\n",
    "\n",
    "w_est = np.inner(x_N - xbar, y_N - ybar) / np.inner(x_N - xbar, x_N - xbar)\n",
    "b_est = ybar - w_est * xbar\n",
    "\n",
    "print(\"Estimated slope: \" + str(w_est))\n",
    "print(\"Estimated bias: \" + str(b_est))"
   ]
  },
  {
   "cell_type": "markdown",
   "metadata": {},
   "source": [
    "<a id=\"part3\"></a>"
   ]
  },
  {
   "cell_type": "markdown",
   "metadata": {},
   "source": [
    "# Part 3: General case of Linear Regression\n",
    "\n",
    "\n",
    "Given a dataset of $N$ examples and $F$ feature dimensions, where\n",
    "\n",
    "* $\\tilde{\\mathbf{X}}$ is an $N \\times F +1$ matrix of feature vectors, where we'll assume the last column is all ones\n",
    "* $\\mathbf{y}$ is an $N \\times 1$ column vector of outputs\n",
    "\n",
    "Goal:\n",
    "* estimate the vector $w \\in \\mathbb{R}^F$ of weight coefficients\n",
    "* estimate the bias scalar $b$ (aka intercept)\n",
    "\n",
    "Let's set $G = F +1$.\n",
    "\n",
    "Then, we can alternatively write our parameters as a compact vector of size $G$\n",
    "\n",
    "\\begin{align}\n",
    "\\theta &= [\\theta_1, \\theta_2, \\ldots \\theta_{F}, \\theta_{G}]\n",
    "\\\\\n",
    "    &= [ w_1, w_2, \\ldots w_F, b]\n",
    "\\end{align}"
   ]
  },
  {
   "cell_type": "markdown",
   "metadata": {},
   "source": [
    "To get started, lets first *form* the array $\\tilde{X}$"
   ]
  },
  {
   "cell_type": "code",
   "execution_count": null,
   "metadata": {},
   "outputs": [
    {
     "data": {
      "text/plain": [
       "(7, 1)"
      ]
     },
     "execution_count": null,
     "metadata": {},
     "output_type": "execute_result"
    }
   ],
   "source": [
    "x_N1 = x_N[:,np.newaxis]\n",
    "x_N1.shape"
   ]
  },
  {
   "cell_type": "code",
   "execution_count": null,
   "metadata": {},
   "outputs": [
    {
     "name": "stdout",
     "output_type": "stream",
     "text": [
      "[[-1.          1.        ]\n",
      " [-0.66666667  1.        ]\n",
      " [-0.33333333  1.        ]\n",
      " [ 0.          1.        ]\n",
      " [ 0.33333333  1.        ]\n",
      " [ 0.66666667  1.        ]\n",
      " [ 1.          1.        ]]\n"
     ]
    }
   ],
   "source": [
    "xtilde_N2 = np.hstack([x_N1, np.ones((x_N.size, 1))])\n",
    "print(xtilde_N2)"
   ]
  },
  {
   "cell_type": "markdown",
   "metadata": {},
   "source": [
    "## Prediction step for Model 3"
   ]
  },
  {
   "cell_type": "code",
   "execution_count": null,
   "metadata": {},
   "outputs": [],
   "source": [
    "def predict3(xtilde_NG, theta_G):\n",
    "    ''' Prediction step of general linear regression\n",
    "    \n",
    "    G = number of features plus 1 (for intercept)\n",
    "    \n",
    "    Returns\n",
    "    -------\n",
    "    yhat_N : 1D array, shape (N,)\n",
    "        Predicted y value for each entry in x_N\n",
    "    '''\n",
    "    assert isinstance(xtilde_NG, np.ndarray)\n",
    "    N, G = xtilde_NG.shape\n",
    "    assert theta_G.size == G\n",
    "    yhat_N = np.zeros(N) # TODO fixme\n",
    "    return yhat_N"
   ]
  },
  {
   "cell_type": "markdown",
   "metadata": {},
   "source": [
    "### SOLUTION to Exercise 3a\n",
    "\n",
    "```python\n",
    "def predict3(xtilde_NG, theta_G):\n",
    "    ''' Prediction step of general linear regression\n",
    "    \n",
    "    G = number of features plus 1 (for intercept)\n",
    "    \n",
    "    Returns\n",
    "    -------\n",
    "    yhat_N : 1D array, shape (N,)\n",
    "        Predicted y value for each entry in x_N\n",
    "    '''\n",
    "    N = np.asarray(x_N).shape\n",
    "    yhat_N = np.matmul(xtilde_NG, theta_G) # Matrix multiply \n",
    "    return yhat_N\n",
    "```"
   ]
  },
  {
   "cell_type": "markdown",
   "metadata": {},
   "source": [
    "## Training step for Model 3"
   ]
  },
  {
   "cell_type": "markdown",
   "metadata": {},
   "source": [
    "\n",
    "Remember that the optimal vector $\\theta^*$ satisfies\n",
    "\n",
    "$$\n",
    "\\left( \\tilde{\\mathbf{X}}^T \\tilde{\\mathbf{X}} \\right) \\theta^* = \\tilde{\\mathbf{X}}^T \\mathbf{y}\n",
    "$$\n",
    "\n",
    "We can \"solve\" for theta by writing (**this critically assumes the inverse exists**)\n",
    "\n",
    "$$\n",
    "\\theta^* = (\\tilde{\\mathbf{X}}^T \\tilde{\\mathbf{X}} )^{-1} \\tilde{\\mathbf{X}}^T \\mathbf{y}\n",
    "\\\\\n",
    "~\\\\\n",
    "w^* = [\\theta^*_1 ~ \\theta^*_2 \\ldots \\theta^*_F ]^T\n",
    "\\\\\n",
    "~\\\\\n",
    "b^* = \\theta^*_{F+1}\n",
    "$$\n",
    "\n",
    "We need to compute a *matrix inverse* to do this.\n",
    "\n",
    "Let's try this out. Step by step.\n",
    "\n",
    "First, print out the $\\tilde{X}$ array"
   ]
  },
  {
   "cell_type": "code",
   "execution_count": null,
   "metadata": {},
   "outputs": [
    {
     "data": {
      "text/plain": [
       "array([[-1.        ,  1.        ],\n",
       "       [-0.66666667,  1.        ],\n",
       "       [-0.33333333,  1.        ],\n",
       "       [ 0.        ,  1.        ],\n",
       "       [ 0.33333333,  1.        ],\n",
       "       [ 0.66666667,  1.        ],\n",
       "       [ 1.        ,  1.        ]])"
      ]
     },
     "execution_count": null,
     "metadata": {},
     "output_type": "execute_result"
    }
   ],
   "source": [
    "xtilde_N2"
   ]
  },
  {
   "cell_type": "markdown",
   "metadata": {},
   "source": [
    "Next, lets compute the matrix product $\\tilde{X}^T \\tilde{X}$, which is a $2 \\times 2$ matrix"
   ]
  },
  {
   "cell_type": "code",
   "execution_count": null,
   "metadata": {},
   "outputs": [
    {
     "name": "stdout",
     "output_type": "stream",
     "text": [
      "[[ 3.11111111e+00 -2.22044605e-16]\n",
      " [-2.22044605e-16  7.00000000e+00]]\n"
     ]
    }
   ],
   "source": [
    "xTx_22 = np.matmul(xtilde_N2.T, xtilde_N2)\n",
    "print(xTx_22)"
   ]
  },
  {
   "cell_type": "markdown",
   "metadata": {},
   "source": [
    "Next, lets compute the INVERSE of $\\tilde{X}^T \\tilde{X}$, which is again a $2 \\times 2$ matrix"
   ]
  },
  {
   "cell_type": "code",
   "execution_count": null,
   "metadata": {},
   "outputs": [
    {
     "name": "stdout",
     "output_type": "stream",
     "text": [
      "[[3.21428571e-01 1.01959257e-17]\n",
      " [1.01959257e-17 1.42857143e-01]]\n"
     ]
    }
   ],
   "source": [
    "inv_xTx_22 = np.linalg.inv(xTx_22) # compute the inverse!\n",
    "print(inv_xTx_22)"
   ]
  },
  {
   "cell_type": "markdown",
   "metadata": {},
   "source": [
    "Next, let's compute the optimal $\\theta$ vector according to our formula above"
   ]
  },
  {
   "cell_type": "code",
   "execution_count": null,
   "metadata": {},
   "outputs": [
    {
     "name": "stdout",
     "output_type": "stream",
     "text": [
      "[[ 2.89165272]\n",
      " [-0.17718526]]\n"
     ]
    }
   ],
   "source": [
    "theta_G = np.matmul(inv_xTx_22, np.matmul(xtilde_N2.T, y_N[:,np.newaxis])) # compute theta vector\n",
    "print(theta_G)"
   ]
  },
  {
   "cell_type": "code",
   "execution_count": null,
   "metadata": {},
   "outputs": [
    {
     "name": "stdout",
     "output_type": "stream",
     "text": [
      "Estimated slope: [2.89165272]\n",
      "Estimated bias: [-0.17718526]\n"
     ]
    }
   ],
   "source": [
    "print(\"Estimated slope: \" + str(theta_G[0]))\n",
    "print(\"Estimated bias: \" + str(theta_G[1]))"
   ]
  },
  {
   "cell_type": "markdown",
   "metadata": {},
   "source": [
    "We should get the SAME results as in our simpler LR case in Part 2. \n",
    "\n",
    "So this formula for the general case looks super easy, right?"
   ]
  },
  {
   "cell_type": "markdown",
   "metadata": {},
   "source": [
    "Not so fast...\n",
    "\n",
    "Let's take a minute and review just what the heck an *inverse* is, before we just blindly implement this formula..."
   ]
  },
  {
   "cell_type": "markdown",
   "metadata": {},
   "source": [
    "<a id=\"part4\"></a>"
   ]
  },
  {
   "cell_type": "markdown",
   "metadata": {},
   "source": [
    "# Part 4: Linear Algebra Review: What is the inverse of a matrix?"
   ]
  },
  {
   "cell_type": "markdown",
   "metadata": {},
   "source": [
    "Let $A$ be a square matrix with shape $(D, D)$.\n",
    "\n",
    "We say that matrix $A^{-1}$ is the *inverse* of $A$ if the product of $A$ and $A^{-1}$ yields the $D \\times D$ *identity* matrix:\n",
    "\n",
    "$$\n",
    "A A^{-1} = I\n",
    "$$\n",
    "\n",
    "If $A^{-1}$ exists, it will also be a $D\\times D $ square matrix.\n",
    "\n",
    "In Python, we can compute the inverse of a matrix using `np.linalg.inv`"
   ]
  },
  {
   "cell_type": "code",
   "execution_count": null,
   "metadata": {},
   "outputs": [
    {
     "name": "stdout",
     "output_type": "stream",
     "text": [
      "[[ 1.  0.  0.]\n",
      " [ 0. -2.  0.]\n",
      " [ 0.  0.  3.]]\n"
     ]
    }
   ],
   "source": [
    "# Define a square matrix with shape(3,3)\n",
    "A = np.diag(np.asarray([1., -2., 3.]))\n",
    "print(A)"
   ]
  },
  {
   "cell_type": "code",
   "execution_count": null,
   "metadata": {},
   "outputs": [
    {
     "name": "stdout",
     "output_type": "stream",
     "text": [
      "[[ 1.          0.          0.        ]\n",
      " [-0.         -0.5        -0.        ]\n",
      " [ 0.          0.          0.33333333]]\n"
     ]
    }
   ],
   "source": [
    "# Compute its inverse\n",
    "invA = np.linalg.inv(A)\n",
    "print(invA)"
   ]
  },
  {
   "cell_type": "code",
   "execution_count": null,
   "metadata": {},
   "outputs": [
    {
     "data": {
      "text/plain": [
       "array([[1., 0., 0.],\n",
       "       [0., 1., 0.],\n",
       "       [0., 0., 1.]])"
      ]
     },
     "execution_count": null,
     "metadata": {},
     "output_type": "execute_result"
    }
   ],
   "source": [
    "np.matmul(A, invA) # should equal identity"
   ]
  },
  {
   "cell_type": "markdown",
   "metadata": {},
   "source": [
    "Remember, in 1 dimensions, the inverse of $a$ is just $1/a$, since $a \\cdot \\frac{1}{a} = 1.0$"
   ]
  },
  {
   "cell_type": "code",
   "execution_count": null,
   "metadata": {},
   "outputs": [
    {
     "name": "stdout",
     "output_type": "stream",
     "text": [
      "[[2]]\n"
     ]
    }
   ],
   "source": [
    "A = np.asarray([[2]])\n",
    "print(A)"
   ]
  },
  {
   "cell_type": "code",
   "execution_count": null,
   "metadata": {},
   "outputs": [
    {
     "name": "stdout",
     "output_type": "stream",
     "text": [
      "[[0.5]]\n"
     ]
    }
   ],
   "source": [
    "invA = np.linalg.inv(A)\n",
    "print(invA)"
   ]
  },
  {
   "cell_type": "markdown",
   "metadata": {},
   "source": [
    "## Does the inverse always exist?\n",
    "\n",
    "No! Remember:\n",
    "\n",
    "* Even when $D=1$, if $A=0$, then the inverse does not exist ($\\frac{1}{A}$ is undefined)\n",
    "* When $D \\geq 2$, there are *infinitely many* square matrices $A$ that do not have an inverse\n",
    "\n"
   ]
  },
  {
   "cell_type": "code",
   "execution_count": null,
   "metadata": {},
   "outputs": [
    {
     "name": "stdout",
     "output_type": "stream",
     "text": [
      "[[0.    0.   ]\n",
      " [0.    1.337]]\n",
      "<class 'numpy.linalg.LinAlgError'>: Singular matrix\n"
     ]
    }
   ],
   "source": [
    "# Example 1:\n",
    "A = np.asarray([[0, 0], [0, 1.337]])\n",
    "print(A)\n",
    "try:\n",
    "    np.linalg.inv(A)\n",
    "except Exception as e:\n",
    "    print(str(type(e)) + \": \" + str(e))"
   ]
  },
  {
   "cell_type": "code",
   "execution_count": null,
   "metadata": {},
   "outputs": [
    {
     "name": "stdout",
     "output_type": "stream",
     "text": [
      "[[3.4 3.4]\n",
      " [3.4 3.4]]\n",
      "<class 'numpy.linalg.LinAlgError'>: Singular matrix\n"
     ]
    }
   ],
   "source": [
    "# Example 2:\n",
    "A = np.asarray([[3.4, 3.4], [3.4, 3.4]])\n",
    "print(A)\n",
    "try:\n",
    "    np.linalg.inv(A)\n",
    "except Exception as e:\n",
    "    print(str(type(e)) + \": \" + str(e))"
   ]
  },
  {
   "cell_type": "code",
   "execution_count": null,
   "metadata": {},
   "outputs": [
    {
     "name": "stdout",
     "output_type": "stream",
     "text": [
      "[[-1.2  4.7]\n",
      " [-2.4  9.4]]\n",
      "<class 'numpy.linalg.LinAlgError'>: Singular matrix\n"
     ]
    }
   ],
   "source": [
    "# Example 3:\n",
    "A = np.asarray([[-1.2, 4.7], [-2.4, 9.4]])\n",
    "print(A)\n",
    "try:\n",
    "    np.linalg.inv(A)\n",
    "except Exception as e:\n",
    "    print(str(type(e)) + \": \" + str(e))"
   ]
  },
  {
   "cell_type": "markdown",
   "metadata": {},
   "source": [
    "What do these examples have in common???\n",
    "\n",
    "The columns of $A$ are not linearly independent!\n",
    "\n",
    "In other words, $A$ is not invertible whenever we can exactly construct one column of $A$ by a linear combination of other columns\n",
    "\n",
    "$$\n",
    "A_{:,D} = c_1 A_{:,1} + c_2 A_{:,2} + \\ldots c_{D-1} A_{:,D-1}\n",
    "$$\n",
    "\n",
    "where $c_1$, $c_2$, $\\ldots c_{D-1}$ are scalar weights."
   ]
  },
  {
   "cell_type": "code",
   "execution_count": null,
   "metadata": {},
   "outputs": [
    {
     "data": {
      "text/plain": [
       "array([-1.2, -2.4])"
      ]
     },
     "execution_count": null,
     "metadata": {},
     "output_type": "execute_result"
    }
   ],
   "source": [
    "# Look, here's the first column:\n",
    "A[:, 0]"
   ]
  },
  {
   "cell_type": "code",
   "execution_count": null,
   "metadata": {},
   "outputs": [
    {
     "data": {
      "text/plain": [
       "array([-1.2, -2.4])"
      ]
     },
     "execution_count": null,
     "metadata": {},
     "output_type": "execute_result"
    }
   ],
   "source": [
    "# And here's it being perfectly reconstructed by a scalar times the second column\n",
    "A[:, 1] * -1.2/4.7"
   ]
  },
  {
   "cell_type": "code",
   "execution_count": null,
   "metadata": {},
   "outputs": [
    {
     "name": "stdout",
     "output_type": "stream",
     "text": [
      "[[ 1.  2. -3.]\n",
      " [ 2.  4. -6.]\n",
      " [ 1.  1.  1.]]\n",
      "<class 'numpy.linalg.LinAlgError'>: Singular matrix\n"
     ]
    }
   ],
   "source": [
    "# Example 3:\n",
    "A = np.asarray([[1.0, 2.0, -3.0], [2, 4, -6.0], [1.0, 1.0, 1.0]])\n",
    "print(A)\n",
    "try:\n",
    "    np.linalg.inv(A)\n",
    "except Exception as e:\n",
    "    print(str(type(e)) + \": \" + str(e))"
   ]
  },
  {
   "cell_type": "markdown",
   "metadata": {},
   "source": [
    "### Important result from linear algebra: Invertible Matrix Theorem\n",
    "\n",
    "\n",
    "Given a specific matrix $A$, the following statements are either *all* true or *all* false:\n",
    "\n",
    "* $A$ has an inverse (e.g. a matrix $A^{-1}$ exists s.t. $A A^{-1} = I$)\n",
    "* All $D$ columns of $A$ are linearly independent\n",
    "* The columns of $A$ span the space $\\mathbb{R}^D$\n",
    "* $A$ has a non-zero determinant\n",
    "\n",
    "For more implications, see the *Invertible Matrix Theorem*:\n",
    "\n",
    "<https://en.wikipedia.org/wiki/Invertible_matrix#Properties>"
   ]
  },
  {
   "cell_type": "markdown",
   "metadata": {},
   "source": [
    "<a id=\"part5\"></a>"
   ]
  },
  {
   "cell_type": "markdown",
   "metadata": {},
   "source": [
    "# Part 5: Is the numerical inverse reliable?\n",
    "\n",
    "Can we always trust the results of `np.linalg.inv`?\n",
    "\n",
    "Not really. Taking inverses is very tricky if the input matrix is not *very* well conditioned."
   ]
  },
  {
   "cell_type": "markdown",
   "metadata": {},
   "source": [
    "### A \"good\" example, where inverse works"
   ]
  },
  {
   "cell_type": "code",
   "execution_count": null,
   "metadata": {},
   "outputs": [],
   "source": [
    "# 3 indep rows of size 3.\n",
    "prng = np.random.RandomState(8675309)\n",
    "\n",
    "x_NF = prng.randn(3, 3)\n",
    "xTx_FF = np.matmul(x_NF.T, x_NF)"
   ]
  },
  {
   "cell_type": "code",
   "execution_count": null,
   "metadata": {},
   "outputs": [
    {
     "data": {
      "text/plain": [
       "array([[ 6.89049845, -2.94940875,  0.53906734],\n",
       "       [-2.94940875,  1.95347099,  0.39420508],\n",
       "       [ 0.53906734,  0.39420508,  1.12274369]])"
      ]
     },
     "execution_count": null,
     "metadata": {},
     "output_type": "execute_result"
    }
   ],
   "source": [
    "np.linalg.inv(np.matmul(x_NF.T, x_NF))"
   ]
  },
  {
   "cell_type": "code",
   "execution_count": null,
   "metadata": {},
   "outputs": [
    {
     "name": "stdout",
     "output_type": "stream",
     "text": [
      "[[ 6.89049845 -2.94940875  0.53906734]\n",
      " [-2.94940875  1.95347099  0.39420508]\n",
      " [ 0.53906734  0.39420508  1.12274369]]\n"
     ]
    }
   ],
   "source": [
    "# First, verify the `inv` function computes *something* of the right shape\n",
    "\n",
    "inv_xTx_FF = np.linalg.inv(xTx_FF)\n",
    "print(inv_xTx_FF)"
   ]
  },
  {
   "cell_type": "code",
   "execution_count": null,
   "metadata": {},
   "outputs": [
    {
     "name": "stdout",
     "output_type": "stream",
     "text": [
      "[[ 1.00000000e+00  3.78543709e-16 -1.02908588e-16]\n",
      " [ 1.00637374e-16  1.00000000e+00 -8.15941066e-17]\n",
      " [ 2.83970606e-16 -4.39010674e-16  1.00000000e+00]]\n",
      "\n",
      "is this close enough to identity matrix? True\n"
     ]
    }
   ],
   "source": [
    "# Next, verify the `inv` function result is ACTUALLY the inverse\n",
    "\n",
    "ans_FF = np.matmul(xTx_FF, inv_xTx_FF)\n",
    "\n",
    "print(ans_FF)\n",
    "print(\"\\nis this close enough to identity matrix? \" + str(\n",
    "    np.allclose(ans_FF, np.eye(3))))"
   ]
  },
  {
   "cell_type": "markdown",
   "metadata": {},
   "source": [
    "### A *bad* example, where `np.linalg.inv` may be unreliable"
   ]
  },
  {
   "cell_type": "code",
   "execution_count": null,
   "metadata": {},
   "outputs": [],
   "source": [
    "# Only 2 indep rows of size 3. should NOT be invertible                      \n",
    "# verify: determinant is close to zero                              \n",
    "x_NF = prng.randn(2, 3)  \n",
    "xTx_FF = np.matmul(x_NF.T, x_NF)"
   ]
  },
  {
   "cell_type": "code",
   "execution_count": null,
   "metadata": {},
   "outputs": [
    {
     "data": {
      "text/plain": [
       "array([[ 0.72724601, -0.34643484, -0.61400395],\n",
       "       [-0.34643484,  0.80016893, -1.19669946],\n",
       "       [-0.61400395, -1.19669946,  4.01004776]])"
      ]
     },
     "execution_count": null,
     "metadata": {},
     "output_type": "execute_result"
    }
   ],
   "source": [
    "xTx_FF"
   ]
  },
  {
   "cell_type": "code",
   "execution_count": null,
   "metadata": {},
   "outputs": [
    {
     "name": "stdout",
     "output_type": "stream",
     "text": [
      "[[2.46265272e+15 2.94415957e+15 1.25568396e+15]\n",
      " [2.94415957e+15 3.51981240e+15 1.50119988e+15]\n",
      " [1.25568396e+15 1.50119988e+15 6.40261699e+14]]\n"
     ]
    }
   ],
   "source": [
    "# First, verify the `inv` function computes *something* of the right shape\n",
    "\n",
    "inv_xTx_FF = np.linalg.inv(xTx_FF)\n",
    "print(inv_xTx_FF)"
   ]
  },
  {
   "cell_type": "code",
   "execution_count": null,
   "metadata": {},
   "outputs": [
    {
     "name": "stdout",
     "output_type": "stream",
     "text": [
      "[[ 0.96261955  0.176167   -0.20301762]\n",
      " [ 0.06237689  0.34972495  0.106876  ]\n",
      " [-0.11882483  0.33249602  0.99899684]]\n",
      "\n",
      "is this close enough to identity matrix? False\n"
     ]
    }
   ],
   "source": [
    "# Next, verify the `inv` function result is ACTUALLY the inverse\n",
    "\n",
    "ans_FF = np.matmul(xTx_FF, inv_xTx_FF)\n",
    "\n",
    "print(ans_FF)\n",
    "print(\"\\nis this close enough to identity matrix? \" + str(\n",
    "    np.allclose(ans_FF, np.eye(3))))"
   ]
  },
  {
   "cell_type": "markdown",
   "metadata": {},
   "source": [
    "### What just happened?\n",
    "\n",
    "We just asked for an inverse.\n",
    "\n",
    "NumPy gave us a result that WAS NOT AN INVERSE, but we received NO WARNINGS OR ERRORS!\n",
    "\n",
    "So what should we do? Avoid naively calling `np.linalg.inv` and trusting the result. \n",
    "\n",
    "A better thing to do is use `np.linalg.solve`, as this will be more *stable* (trustworthy).\n",
    "\n",
    "<https://numpy.org/doc/stable/reference/generated/numpy.linalg.solve.html>"
   ]
  },
  {
   "cell_type": "markdown",
   "metadata": {},
   "source": [
    "What `np.linalg.solve(A, b)` does is that it uses DIFFERENT algorithm to directly return an answer to the question\n",
    "\n",
    "What vector $\\theta$ would be a valid solution to the equation\n",
    "\n",
    "$$\n",
    "A \\theta = b\n",
    "$$\n",
    "\n",
    "for some matrix $A$ and vector $b$\n",
    "\n",
    "So for our case, we are requesting a solution (a specific vector $\\theta$) to the equation\n",
    "\n",
    "$$\n",
    "\\tilde{X}^T \\tilde{X} \\theta = \\tilde{X}^T y\n",
    "$$"
   ]
  },
  {
   "cell_type": "markdown",
   "metadata": {},
   "source": [
    "<a id=\"part6\"></a>"
   ]
  },
  {
   "cell_type": "markdown",
   "metadata": {},
   "source": [
    "# Part 6: Returning to general case linear regression\n",
    "\n",
    "Construct a simple case with $N=2$ examples and $F=2$ features.\n",
    "\n",
    "For general linear regression, this is an UNDER-determined system (we have 3 unknowns, but only 2 examples).\n",
    "\n"
   ]
  },
  {
   "cell_type": "code",
   "execution_count": null,
   "metadata": {},
   "outputs": [],
   "source": [
    "true_w_F1 = np.asarray([1.0, 1.0])[:,np.newaxis]\n",
    "true_b = np.asarray([0.0])"
   ]
  },
  {
   "cell_type": "code",
   "execution_count": null,
   "metadata": {},
   "outputs": [
    {
     "name": "stdout",
     "output_type": "stream",
     "text": [
      "[[0.99912666 2.00015601]\n",
      " [0.9996129  0.99976079]]\n"
     ]
    }
   ],
   "source": [
    "x_NF = np.asarray([[1.0, 2.0], [1.0, 1.0]]) + prng.randn(2,2) * 0.001\n",
    "print(x_NF)"
   ]
  },
  {
   "cell_type": "code",
   "execution_count": null,
   "metadata": {},
   "outputs": [
    {
     "name": "stdout",
     "output_type": "stream",
     "text": [
      "[[2.99928267]\n",
      " [1.99937369]]\n"
     ]
    }
   ],
   "source": [
    "y_N1 = np.matmul(x_NF, true_w_F1) + true_b\n",
    "print(y_N1)"
   ]
  },
  {
   "cell_type": "markdown",
   "metadata": {},
   "source": [
    "### Quick visual of what this dataset looks like. N=2, F=2."
   ]
  },
  {
   "cell_type": "code",
   "execution_count": null,
   "metadata": {},
   "outputs": [
    {
     "data": {
      "image/png": "[encoded data removed]",
      "text/plain": [
       "<Figure size 800x300 with 2 Axes>"
      ]
     },
     "metadata": {},
     "output_type": "display_data"
    }
   ],
   "source": [
    "_, axgrid = plt.subplots(nrows=1, ncols=2, figsize=(8,3));\n",
    "axgrid[0].plot(x_NF[:,0], y_N1, 'k.');\n",
    "axgrid[1].plot(x_NF[:,1], y_N1, 'k.');\n",
    "axgrid[0].set_ylabel('y')\n",
    "axgrid[0].set_xlabel('x1')\n",
    "axgrid[1].set_xlabel('x2');"
   ]
  },
  {
   "cell_type": "markdown",
   "metadata": {},
   "source": [
    "Now, let's look at what happens when we try to predict on this dataset"
   ]
  },
  {
   "cell_type": "code",
   "execution_count": null,
   "metadata": {},
   "outputs": [
    {
     "name": "stdout",
     "output_type": "stream",
     "text": [
      "True y\n",
      "[2.99928267 1.99937369]\n",
      "Predictions with theta1: [ 7.24938235  1.00303752 -6.25      ]\n",
      "[0. 0.]\n",
      "Predictions with theta2: [1. 1. 0.]\n",
      "[0. 0.]\n"
     ]
    }
   ],
   "source": [
    "theta1_G = np.asarray([7.24938235, 1.00303752, -6.25]);\n",
    "theta2_G = np.asarray([true_w_F1[0,0], true_w_F1[1,0], true_b[0]])\n",
    "xtilde_NG = np.hstack([x_NF, np.ones((2, 1))])\n",
    "\n",
    "print('True y')\n",
    "print(y_N1[:,0])\n",
    "print('Predictions with theta1: ' + str(theta1_G))\n",
    "print(predict3(xtilde_NG, theta1_G)) # Assumes you have solved Exercise 3a\n",
    "print(\"Predictions with theta2: \" + str(theta2_G))\n",
    "print(predict3(xtilde_NG, theta2_G))"
   ]
  },
  {
   "cell_type": "markdown",
   "metadata": {},
   "source": [
    "### Expected output of the above (if you've solved Exercise 3a)\n",
    "\n",
    "<pre>\n",
    "True y\n",
    "[2.99928267 1.99937369]\n",
    "Predictions with theta1: [ 7.24938235  1.00303752 -6.25      ]\n",
    "[2.99928267 1.99937369]\n",
    "Predictions with theta2: [1. 1. 0.]\n",
    "[2.99928267 1.99937369]\n",
    "</pre>"
   ]
  },
  {
   "cell_type": "markdown",
   "metadata": {},
   "source": [
    "Punchline: $N=F$, yet the model has $G = F+1$ free parameters. \n",
    "\n",
    "So, while not all parameters do well, there do exist INFINITELY many weights $w$ and bias values $b$ that can reconstruct our $y$ **perfectly**\n",
    "\n",
    "Question: Can various estimation strategies find such weights?"
   ]
  },
  {
   "cell_type": "markdown",
   "metadata": {},
   "source": [
    "### Try out sklearn\n"
   ]
  },
  {
   "cell_type": "code",
   "execution_count": null,
   "metadata": {},
   "outputs": [],
   "source": [
    "import sklearn.linear_model"
   ]
  },
  {
   "cell_type": "code",
   "execution_count": null,
   "metadata": {},
   "outputs": [],
   "source": [
    "lr = sklearn.linear_model.LinearRegression()"
   ]
  },
  {
   "cell_type": "code",
   "execution_count": null,
   "metadata": {},
   "outputs": [
    {
     "data": {
      "text/html": [
       "<style>#sk-container-id-1 {\n",
       "  /* Definition of color scheme common for light and dark mode */\n",
       "  --sklearn-color-text: black;\n",
       "  --sklearn-color-line: gray;\n",
       "  /* Definition of color scheme for unfitted estimators */\n",
       "  --sklearn-color-unfitted-level-0: #fff5e6;\n",
       "  --sklearn-color-unfitted-level-1: #f6e4d2;\n",
       "  --sklearn-color-unfitted-level-2: #ffe0b3;\n",
       "  --sklearn-color-unfitted-level-3: chocolate;\n",
       "  /* Definition of color scheme for fitted estimators */\n",
       "  --sklearn-color-fitted-level-0: #f0f8ff;\n",
       "  --sklearn-color-fitted-level-1: #d4ebff;\n",
       "  --sklearn-color-fitted-level-2: #b3dbfd;\n",
       "  --sklearn-color-fitted-level-3: cornflowerblue;\n",
       "\n",
       "  /* Specific color for light theme */\n",
       "  --sklearn-color-text-on-default-background: var(--sg-text-color, var(--theme-code-foreground, var(--jp-content-font-color1, black)));\n",
       "  --sklearn-color-background: var(--sg-background-color, var(--theme-background, var(--jp-layout-color0, white)));\n",
       "  --sklearn-color-border-box: var(--sg-text-color, var(--theme-code-foreground, var(--jp-content-font-color1, black)));\n",
       "  --sklearn-color-icon: #696969;\n",
       "\n",
       "  @media (prefers-color-scheme: dark) {\n",
       "    /* Redefinition of color scheme for dark theme */\n",
       "    --sklearn-color-text-on-default-background: var(--sg-text-color, var(--theme-code-foreground, var(--jp-content-font-color1, white)));\n",
       "    --sklearn-color-background: var(--sg-background-color, var(--theme-background, var(--jp-layout-color0, #111)));\n",
       "    --sklearn-color-border-box: var(--sg-text-color, var(--theme-code-foreground, var(--jp-content-font-color1, white)));\n",
       "    --sklearn-color-icon: #878787;\n",
       "  }\n",
       "}\n",
       "\n",
       "#sk-container-id-1 {\n",
       "  color: var(--sklearn-color-text);\n",
       "}\n",
       "\n",
       "#sk-container-id-1 pre {\n",
       "  padding: 0;\n",
       "}\n",
       "\n",
       "#sk-container-id-1 input.sk-hidden--visually {\n",
       "  border: 0;\n",
       "  clip: rect(1px 1px 1px 1px);\n",
       "  clip: rect(1px, 1px, 1px, 1px);\n",
       "  height: 1px;\n",
       "  margin: -1px;\n",
       "  overflow: hidden;\n",
       "  padding: 0;\n",
       "  position: absolute;\n",
       "  width: 1px;\n",
       "}\n",
       "\n",
       "#sk-container-id-1 div.sk-dashed-wrapped {\n",
       "  border: 1px dashed var(--sklearn-color-line);\n",
       "  margin: 0 0.4em 0.5em 0.4em;\n",
       "  box-sizing: border-box;\n",
       "  padding-bottom: 0.4em;\n",
       "  background-color: var(--sklearn-color-background);\n",
       "}\n",
       "\n",
       "#sk-container-id-1 div.sk-container {\n",
       "  /* jupyter's `normalize.less` sets `[hidden] { display: none; }`\n",
       "     but bootstrap.min.css set `[hidden] { display: none !important; }`\n",
       "     so we also need the `!important` here to be able to override the\n",
       "     default hidden behavior on the sphinx rendered scikit-learn.org.\n",
       "     See: https://github.com/scikit-learn/scikit-learn/issues/21755 */\n",
       "  display: inline-block !important;\n",
       "  position: relative;\n",
       "}\n",
       "\n",
       "#sk-container-id-1 div.sk-text-repr-fallback {\n",
       "  display: none;\n",
       "}\n",
       "\n",
       "div.sk-parallel-item,\n",
       "div.sk-serial,\n",
       "div.sk-item {\n",
       "  /* draw centered vertical line to link estimators */\n",
       "  background-image: linear-gradient(var(--sklearn-color-text-on-default-background), var(--sklearn-color-text-on-default-background));\n",
       "  background-size: 2px 100%;\n",
       "  background-repeat: no-repeat;\n",
       "  background-position: center center;\n",
       "}\n",
       "\n",
       "/* Parallel-specific style estimator block */\n",
       "\n",
       "#sk-container-id-1 div.sk-parallel-item::after {\n",
       "  content: \"\";\n",
       "  width: 100%;\n",
       "  border-bottom: 2px solid var(--sklearn-color-text-on-default-background);\n",
       "  flex-grow: 1;\n",
       "}\n",
       "\n",
       "#sk-container-id-1 div.sk-parallel {\n",
       "  display: flex;\n",
       "  align-items: stretch;\n",
       "  justify-content: center;\n",
       "  background-color: var(--sklearn-color-background);\n",
       "  position: relative;\n",
       "}\n",
       "\n",
       "#sk-container-id-1 div.sk-parallel-item {\n",
       "  display: flex;\n",
       "  flex-direction: column;\n",
       "}\n",
       "\n",
       "#sk-container-id-1 div.sk-parallel-item:first-child::after {\n",
       "  align-self: flex-end;\n",
       "  width: 50%;\n",
       "}\n",
       "\n",
       "#sk-container-id-1 div.sk-parallel-item:last-child::after {\n",
       "  align-self: flex-start;\n",
       "  width: 50%;\n",
       "}\n",
       "\n",
       "#sk-container-id-1 div.sk-parallel-item:only-child::after {\n",
       "  width: 0;\n",
       "}\n",
       "\n",
       "/* Serial-specific style estimator block */\n",
       "\n",
       "#sk-container-id-1 div.sk-serial {\n",
       "  display: flex;\n",
       "  flex-direction: column;\n",
       "  align-items: center;\n",
       "  background-color: var(--sklearn-color-background);\n",
       "  padding-right: 1em;\n",
       "  padding-left: 1em;\n",
       "}\n",
       "\n",
       "\n",
       "/* Toggleable style: style used for estimator/Pipeline/ColumnTransformer box that is\n",
       "clickable and can be expanded/collapsed.\n",
       "- Pipeline and ColumnTransformer use this feature and define the default style\n",
       "- Estimators will overwrite some part of the style using the `sk-estimator` class\n",
       "*/\n",
       "\n",
       "/* Pipeline and ColumnTransformer style (default) */\n",
       "\n",
       "#sk-container-id-1 div.sk-toggleable {\n",
       "  /* Default theme specific background. It is overwritten whether we have a\n",
       "  specific estimator or a Pipeline/ColumnTransformer */\n",
       "  background-color: var(--sklearn-color-background);\n",
       "}\n",
       "\n",
       "/* Toggleable label */\n",
       "#sk-container-id-1 label.sk-toggleable__label {\n",
       "  cursor: pointer;\n",
       "  display: block;\n",
       "  width: 100%;\n",
       "  margin-bottom: 0;\n",
       "  padding: 0.5em;\n",
       "  box-sizing: border-box;\n",
       "  text-align: center;\n",
       "}\n",
       "\n",
       "#sk-container-id-1 label.sk-toggleable__label-arrow:before {\n",
       "  /* Arrow on the left of the label */\n",
       "  content: \"▸\";\n",
       "  float: left;\n",
       "  margin-right: 0.25em;\n",
       "  color: var(--sklearn-color-icon);\n",
       "}\n",
       "\n",
       "#sk-container-id-1 label.sk-toggleable__label-arrow:hover:before {\n",
       "  color: var(--sklearn-color-text);\n",
       "}\n",
       "\n",
       "/* Toggleable content - dropdown */\n",
       "\n",
       "#sk-container-id-1 div.sk-toggleable__content {\n",
       "  max-height: 0;\n",
       "  max-width: 0;\n",
       "  overflow: hidden;\n",
       "  text-align: left;\n",
       "  /* unfitted */\n",
       "  background-color: var(--sklearn-color-unfitted-level-0);\n",
       "}\n",
       "\n",
       "#sk-container-id-1 div.sk-toggleable__content.fitted {\n",
       "  /* fitted */\n",
       "  background-color: var(--sklearn-color-fitted-level-0);\n",
       "}\n",
       "\n",
       "#sk-container-id-1 div.sk-toggleable__content pre {\n",
       "  margin: 0.2em;\n",
       "  border-radius: 0.25em;\n",
       "  color: var(--sklearn-color-text);\n",
       "  /* unfitted */\n",
       "  background-color: var(--sklearn-color-unfitted-level-0);\n",
       "}\n",
       "\n",
       "#sk-container-id-1 div.sk-toggleable__content.fitted pre {\n",
       "  /* unfitted */\n",
       "  background-color: var(--sklearn-color-fitted-level-0);\n",
       "}\n",
       "\n",
       "#sk-container-id-1 input.sk-toggleable__control:checked~div.sk-toggleable__content {\n",
       "  /* Expand drop-down */\n",
       "  max-height: 200px;\n",
       "  max-width: 100%;\n",
       "  overflow: auto;\n",
       "}\n",
       "\n",
       "#sk-container-id-1 input.sk-toggleable__control:checked~label.sk-toggleable__label-arrow:before {\n",
       "  content: \"▾\";\n",
       "}\n",
       "\n",
       "/* Pipeline/ColumnTransformer-specific style */\n",
       "\n",
       "#sk-container-id-1 div.sk-label input.sk-toggleable__control:checked~label.sk-toggleable__label {\n",
       "  color: var(--sklearn-color-text);\n",
       "  background-color: var(--sklearn-color-unfitted-level-2);\n",
       "}\n",
       "\n",
       "#sk-container-id-1 div.sk-label.fitted input.sk-toggleable__control:checked~label.sk-toggleable__label {\n",
       "  background-color: var(--sklearn-color-fitted-level-2);\n",
       "}\n",
       "\n",
       "/* Estimator-specific style */\n",
       "\n",
       "/* Colorize estimator box */\n",
       "#sk-container-id-1 div.sk-estimator input.sk-toggleable__control:checked~label.sk-toggleable__label {\n",
       "  /* unfitted */\n",
       "  background-color: var(--sklearn-color-unfitted-level-2);\n",
       "}\n",
       "\n",
       "#sk-container-id-1 div.sk-estimator.fitted input.sk-toggleable__control:checked~label.sk-toggleable__label {\n",
       "  /* fitted */\n",
       "  background-color: var(--sklearn-color-fitted-level-2);\n",
       "}\n",
       "\n",
       "#sk-container-id-1 div.sk-label label.sk-toggleable__label,\n",
       "#sk-container-id-1 div.sk-label label {\n",
       "  /* The background is the default theme color */\n",
       "  color: var(--sklearn-color-text-on-default-background);\n",
       "}\n",
       "\n",
       "/* On hover, darken the color of the background */\n",
       "#sk-container-id-1 div.sk-label:hover label.sk-toggleable__label {\n",
       "  color: var(--sklearn-color-text);\n",
       "  background-color: var(--sklearn-color-unfitted-level-2);\n",
       "}\n",
       "\n",
       "/* Label box, darken color on hover, fitted */\n",
       "#sk-container-id-1 div.sk-label.fitted:hover label.sk-toggleable__label.fitted {\n",
       "  color: var(--sklearn-color-text);\n",
       "  background-color: var(--sklearn-color-fitted-level-2);\n",
       "}\n",
       "\n",
       "/* Estimator label */\n",
       "\n",
       "#sk-container-id-1 div.sk-label label {\n",
       "  font-family: monospace;\n",
       "  font-weight: bold;\n",
       "  display: inline-block;\n",
       "  line-height: 1.2em;\n",
       "}\n",
       "\n",
       "#sk-container-id-1 div.sk-label-container {\n",
       "  text-align: center;\n",
       "}\n",
       "\n",
       "/* Estimator-specific */\n",
       "#sk-container-id-1 div.sk-estimator {\n",
       "  font-family: monospace;\n",
       "  border: 1px dotted var(--sklearn-color-border-box);\n",
       "  border-radius: 0.25em;\n",
       "  box-sizing: border-box;\n",
       "  margin-bottom: 0.5em;\n",
       "  /* unfitted */\n",
       "  background-color: var(--sklearn-color-unfitted-level-0);\n",
       "}\n",
       "\n",
       "#sk-container-id-1 div.sk-estimator.fitted {\n",
       "  /* fitted */\n",
       "  background-color: var(--sklearn-color-fitted-level-0);\n",
       "}\n",
       "\n",
       "/* on hover */\n",
       "#sk-container-id-1 div.sk-estimator:hover {\n",
       "  /* unfitted */\n",
       "  background-color: var(--sklearn-color-unfitted-level-2);\n",
       "}\n",
       "\n",
       "#sk-container-id-1 div.sk-estimator.fitted:hover {\n",
       "  /* fitted */\n",
       "  background-color: var(--sklearn-color-fitted-level-2);\n",
       "}\n",
       "\n",
       "/* Specification for estimator info (e.g. \"i\" and \"?\") */\n",
       "\n",
       "/* Common style for \"i\" and \"?\" */\n",
       "\n",
       ".sk-estimator-doc-link,\n",
       "a:link.sk-estimator-doc-link,\n",
       "a:visited.sk-estimator-doc-link {\n",
       "  float: right;\n",
       "  font-size: smaller;\n",
       "  line-height: 1em;\n",
       "  font-family: monospace;\n",
       "  background-color: var(--sklearn-color-background);\n",
       "  border-radius: 1em;\n",
       "  height: 1em;\n",
       "  width: 1em;\n",
       "  text-decoration: none !important;\n",
       "  margin-left: 1ex;\n",
       "  /* unfitted */\n",
       "  border: var(--sklearn-color-unfitted-level-1) 1pt solid;\n",
       "  color: var(--sklearn-color-unfitted-level-1);\n",
       "}\n",
       "\n",
       ".sk-estimator-doc-link.fitted,\n",
       "a:link.sk-estimator-doc-link.fitted,\n",
       "a:visited.sk-estimator-doc-link.fitted {\n",
       "  /* fitted */\n",
       "  border: var(--sklearn-color-fitted-level-1) 1pt solid;\n",
       "  color: var(--sklearn-color-fitted-level-1);\n",
       "}\n",
       "\n",
       "/* On hover */\n",
       "div.sk-estimator:hover .sk-estimator-doc-link:hover,\n",
       ".sk-estimator-doc-link:hover,\n",
       "div.sk-label-container:hover .sk-estimator-doc-link:hover,\n",
       ".sk-estimator-doc-link:hover {\n",
       "  /* unfitted */\n",
       "  background-color: var(--sklearn-color-unfitted-level-3);\n",
       "  color: var(--sklearn-color-background);\n",
       "  text-decoration: none;\n",
       "}\n",
       "\n",
       "div.sk-estimator.fitted:hover .sk-estimator-doc-link.fitted:hover,\n",
       ".sk-estimator-doc-link.fitted:hover,\n",
       "div.sk-label-container:hover .sk-estimator-doc-link.fitted:hover,\n",
       ".sk-estimator-doc-link.fitted:hover {\n",
       "  /* fitted */\n",
       "  background-color: var(--sklearn-color-fitted-level-3);\n",
       "  color: var(--sklearn-color-background);\n",
       "  text-decoration: none;\n",
       "}\n",
       "\n",
       "/* Span, style for the box shown on hovering the info icon */\n",
       ".sk-estimator-doc-link span {\n",
       "  display: none;\n",
       "  z-index: 9999;\n",
       "  position: relative;\n",
       "  font-weight: normal;\n",
       "  right: .2ex;\n",
       "  padding: .5ex;\n",
       "  margin: .5ex;\n",
       "  width: min-content;\n",
       "  min-width: 20ex;\n",
       "  max-width: 50ex;\n",
       "  color: var(--sklearn-color-text);\n",
       "  box-shadow: 2pt 2pt 4pt #999;\n",
       "  /* unfitted */\n",
       "  background: var(--sklearn-color-unfitted-level-0);\n",
       "  border: .5pt solid var(--sklearn-color-unfitted-level-3);\n",
       "}\n",
       "\n",
       ".sk-estimator-doc-link.fitted span {\n",
       "  /* fitted */\n",
       "  background: var(--sklearn-color-fitted-level-0);\n",
       "  border: var(--sklearn-color-fitted-level-3);\n",
       "}\n",
       "\n",
       ".sk-estimator-doc-link:hover span {\n",
       "  display: block;\n",
       "}\n",
       "\n",
       "/* \"?\"-specific style due to the `<a>` HTML tag */\n",
       "\n",
       "#sk-container-id-1 a.estimator_doc_link {\n",
       "  float: right;\n",
       "  font-size: 1rem;\n",
       "  line-height: 1em;\n",
       "  font-family: monospace;\n",
       "  background-color: var(--sklearn-color-background);\n",
       "  border-radius: 1rem;\n",
       "  height: 1rem;\n",
       "  width: 1rem;\n",
       "  text-decoration: none;\n",
       "  /* unfitted */\n",
       "  color: var(--sklearn-color-unfitted-level-1);\n",
       "  border: var(--sklearn-color-unfitted-level-1) 1pt solid;\n",
       "}\n",
       "\n",
       "#sk-container-id-1 a.estimator_doc_link.fitted {\n",
       "  /* fitted */\n",
       "  border: var(--sklearn-color-fitted-level-1) 1pt solid;\n",
       "  color: var(--sklearn-color-fitted-level-1);\n",
       "}\n",
       "\n",
       "/* On hover */\n",
       "#sk-container-id-1 a.estimator_doc_link:hover {\n",
       "  /* unfitted */\n",
       "  background-color: var(--sklearn-color-unfitted-level-3);\n",
       "  color: var(--sklearn-color-background);\n",
       "  text-decoration: none;\n",
       "}\n",
       "\n",
       "#sk-container-id-1 a.estimator_doc_link.fitted:hover {\n",
       "  /* fitted */\n",
       "  background-color: var(--sklearn-color-fitted-level-3);\n",
       "}\n",
       "</style><div id=\"sk-container-id-1\" class=\"sk-top-container\"><div class=\"sk-text-repr-fallback\"><pre>LinearRegression()</pre><b>In a Jupyter environment, please rerun this cell to show the HTML representation or trust the notebook. <br />On GitHub, the HTML representation is unable to render, please try loading this page with nbviewer.org.</b></div><div class=\"sk-container\" hidden><div class=\"sk-item\"><div class=\"sk-estimator fitted sk-toggleable\"><input class=\"sk-toggleable__control sk-hidden--visually\" id=\"sk-estimator-id-1\" type=\"checkbox\" checked><label for=\"sk-estimator-id-1\" class=\"sk-toggleable__label fitted sk-toggleable__label-arrow fitted\">&nbsp;&nbsp;LinearRegression<a class=\"sk-estimator-doc-link fitted\" rel=\"noreferrer\" target=\"_blank\" href=\"https://scikit-learn.org/1.5/modules/generated/sklearn.linear_model.LinearRegression.html\">?<span>Documentation for LinearRegression</span></a><span class=\"sk-estimator-doc-link fitted\">i<span>Fitted</span></span></label><div class=\"sk-toggleable__content fitted\"><pre>LinearRegression()</pre></div> </div></div></div></div>"
      ],
      "text/plain": [
       "LinearRegression()"
      ]
     },
     "execution_count": null,
     "metadata": {},
     "output_type": "execute_result"
    }
   ],
   "source": [
    "lr.fit(x_NF, y_N1)"
   ]
  },
  {
   "cell_type": "markdown",
   "metadata": {},
   "source": [
    "Print the estimated weights $w$ and intercept $b$"
   ]
  },
  {
   "cell_type": "code",
   "execution_count": null,
   "metadata": {},
   "outputs": [
    {
     "name": "stdout",
     "output_type": "stream",
     "text": [
      "[[-4.85815419e-04  9.99513712e-01]]\n",
      "[1.0005847]\n"
     ]
    }
   ],
   "source": [
    "print(lr.coef_)\n",
    "print(lr.intercept_)"
   ]
  },
  {
   "cell_type": "markdown",
   "metadata": {},
   "source": [
    "Print the predicted values for $y$, alongside the *true* ones"
   ]
  },
  {
   "cell_type": "code",
   "execution_count": null,
   "metadata": {},
   "outputs": [
    {
     "name": "stdout",
     "output_type": "stream",
     "text": [
      "Results for sklearn\n",
      "Predicted y: [2.99928267 1.99937369]\n",
      "True y:      [2.99928267 1.99937369]\n"
     ]
    }
   ],
   "source": [
    "print(\"Results for sklearn\")\n",
    "print(\"Predicted y: \" + str(np.squeeze(lr.predict(x_NF))))\n",
    "print(\"True y:      \" + str(np.squeeze(y_N1)))"
   ]
  },
  {
   "cell_type": "markdown",
   "metadata": {},
   "source": [
    "### Prep for our formulas: make the $\\tilde{\\mathbf{X}}$ array\n",
    "\n",
    "Will have shape $N \\times (F+1)$\n",
    "\n",
    "Let's define $G = F+1$"
   ]
  },
  {
   "cell_type": "code",
   "execution_count": null,
   "metadata": {},
   "outputs": [
    {
     "name": "stdout",
     "output_type": "stream",
     "text": [
      "[[0.99912666 2.00015601 1.        ]\n",
      " [0.9996129  0.99976079 1.        ]]\n"
     ]
    }
   ],
   "source": [
    "xtilde_NG = np.hstack([x_NF, np.ones((2, 1))])\n",
    "print(xtilde_NG)"
   ]
  },
  {
   "cell_type": "code",
   "execution_count": null,
   "metadata": {},
   "outputs": [],
   "source": [
    "xTx_GG = np.matmul(xtilde_NG.T, xtilde_NG)"
   ]
  },
  {
   "cell_type": "markdown",
   "metadata": {},
   "source": [
    "### Try out using our least-squares formula, as implemented with `np.linalg.inv`"
   ]
  },
  {
   "cell_type": "code",
   "execution_count": null,
   "metadata": {},
   "outputs": [],
   "source": [
    "inv_xTx_GG = np.linalg.inv(xTx_GG)\n",
    "theta_G1 = np.matmul(inv_xTx_GG, np.matmul(xtilde_NG.T, y_N1))"
   ]
  },
  {
   "cell_type": "markdown",
   "metadata": {},
   "source": [
    "Best estimate of the weights and bias (after \"unpacking\" the vector $\\theta$):"
   ]
  },
  {
   "cell_type": "code",
   "execution_count": null,
   "metadata": {},
   "outputs": [
    {
     "name": "stdout",
     "output_type": "stream",
     "text": [
      "[8.         1.00195312]\n",
      "[-4.]\n"
     ]
    }
   ],
   "source": [
    "w_F = theta_G1[:-1, 0]\n",
    "b = theta_G1[-1]\n",
    "print(w_F)\n",
    "print(b)"
   ]
  },
  {
   "cell_type": "code",
   "execution_count": null,
   "metadata": {},
   "outputs": [],
   "source": [
    "yhat_N1 = np.matmul(xtilde_NG, theta_G1)"
   ]
  },
  {
   "cell_type": "code",
   "execution_count": null,
   "metadata": {},
   "outputs": [
    {
     "name": "stdout",
     "output_type": "stream",
     "text": [
      "Results for using naive np.linalg.inv\n",
      "Predicted y: [5.99707581 4.99861664]\n",
      "True y:      [2.99928267 1.99937369]\n"
     ]
    }
   ],
   "source": [
    "print(\"Results for using naive np.linalg.inv\")\n",
    "print(\"Predicted y: \" + str(yhat_N1[:,0]))\n",
    "print(\"True y:      \" + str(y_N1[:,0]))"
   ]
  },
  {
   "cell_type": "markdown",
   "metadata": {},
   "source": [
    "Expected result: you should see that predictions might be *quite far* from true y values!"
   ]
  },
  {
   "cell_type": "markdown",
   "metadata": {},
   "source": [
    "### Try out using our formulas, as implemented with `np.linalg.solve`\n",
    "\n",
    "What should happen: We can find estimated parameters $w, b$ that perfectly predict the $y$"
   ]
  },
  {
   "cell_type": "code",
   "execution_count": null,
   "metadata": {},
   "outputs": [],
   "source": [
    "theta_G1 = np.linalg.solve(xTx_GG, np.matmul(xtilde_NG.T, y_N1))"
   ]
  },
  {
   "cell_type": "code",
   "execution_count": null,
   "metadata": {},
   "outputs": [
    {
     "name": "stdout",
     "output_type": "stream",
     "text": [
      "[7.24938235 1.00303752]\n",
      "-6.25\n"
     ]
    }
   ],
   "source": [
    "w_F = theta_G1[:-1,0]\n",
    "b = theta_G1[-1,0]\n",
    "print(w_F)\n",
    "print(b)"
   ]
  },
  {
   "cell_type": "code",
   "execution_count": null,
   "metadata": {},
   "outputs": [],
   "source": [
    "yhat_N1 = np.matmul(xtilde_NG, theta_G1)"
   ]
  },
  {
   "cell_type": "code",
   "execution_count": null,
   "metadata": {},
   "outputs": [
    {
     "name": "stdout",
     "output_type": "stream",
     "text": [
      "Results for using more stable formula implementation with np.linalg.solve\n",
      "Predicted y: [2.99928267 1.99937369]\n",
      "True y:      [2.99928267 1.99937369]\n"
     ]
    }
   ],
   "source": [
    "print(\"Results for using more stable formula implementation with np.linalg.solve\")\n",
    "print(\"Predicted y: \" + str(yhat_N1[:,0]))\n",
    "print(\"True y:      \" + str(y_N1[:,0]))"
   ]
  },
  {
   "cell_type": "code",
   "execution_count": null,
   "metadata": {},
   "outputs": [],
   "source": []
  },
  {
   "cell_type": "code",
   "execution_count": null,
   "metadata": {},
   "outputs": [],
   "source": []
  }
 ],
 "metadata": {
  "kernelspec": {
   "display_name": "python3",
   "language": "python",
   "name": "python3"
  }
 },
 "nbformat": 4,
 "nbformat_minor": 4
}
